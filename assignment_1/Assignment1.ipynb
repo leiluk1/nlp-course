{
  "cells": [
    {
      "cell_type": "markdown",
      "metadata": {
        "id": "RKboZnAdgrRM"
      },
      "source": [
        "# [NLP] Assignment 1: Tokenization\n",
        "\n",
        "In this assignment, you need to tokenize the text of the Twitter(X) users posts(tweets). The assignment consists of two tasks. When you finish all the tasks, submit the link to the repository in Moodle.\n",
        "\n",
        "The [data](https://drive.google.com/file/d/15x_wPAflvYQ2Xh38iNQGrqUIWLj5l5Nw/view?usp=share_link) contains 5 files whereby each contains 44 tweets. Each tweet is separated by a newline."
      ]
    },
    {
      "cell_type": "code",
      "execution_count": 2,
      "metadata": {},
      "outputs": [],
      "source": [
        "# Neccessary imports \n",
        "import os\n",
        "import zipfile\n",
        "from typing import List, Dict, Tuple\n",
        "from collections import defaultdict\n",
        "import requests\n",
        "\n",
        "import re\n",
        "import matplotlib.pyplot as plt\n",
        "import seaborn as sns\n",
        "import pandas as pd"
      ]
    },
    {
      "cell_type": "code",
      "execution_count": 3,
      "metadata": {},
      "outputs": [],
      "source": [
        "# Data loading (uncomment to load updated zip)\n",
        "\n",
        "# url = 'https://drive.google.com/uc?id=15x_wPAflvYQ2Xh38iNQGrqUIWLj5l5Nw'\n",
        "# output = 'assignment1_data.zip'\n",
        "\n",
        "# response = requests.get(url)\n",
        "# with open(output, 'wb') as f:\n",
        "#     f.write(response.content)"
      ]
    },
    {
      "cell_type": "code",
      "execution_count": 3,
      "metadata": {},
      "outputs": [],
      "source": [
        "# Data extraction\n",
        "output = 'assignment1_data.zip'\n",
        "data_path = 'assignment1_data'\n",
        "\n",
        "with zipfile.ZipFile(output, 'r') as zip_ref:\n",
        "    zip_ref.extractall(data_path)"
      ]
    },
    {
      "cell_type": "markdown",
      "metadata": {
        "id": "aLDjjAvemUP_"
      },
      "source": [
        "## Task 1. Tokenize some tweets manually (20 points)\n",
        "\n",
        "As a first task you need to tokenize first 15 tweets from `file2` by hand. This will allow you to understand the problem from a linguistic point of view. The guidelines for tweet tokenization are as follows:\n",
        "\n",
        "- Each smiley is a separate token\n",
        "- Each hashtag is an individual token. Each user reference is an individual token\n",
        "- If a word has spaces between them then it is converted to a single token\n",
        "- All punctuations are individual tokens. This includes double-quotes and single quotes also\n",
        "- A URL is a single token\n",
        "\n",
        "Example of output\n",
        "\n",
        "    Input tweet\n",
        "    @xfranman Old age has made N A T O!\n",
        "\n",
        "    Tokenized tweet (separated by comma)\n",
        "    @xfranman , Old , age , has , made , NATO , !"
      ]
    },
    {
      "cell_type": "code",
      "execution_count": 4,
      "metadata": {},
      "outputs": [
        {
          "name": "stdout",
          "output_type": "stream",
          "text": [
            "1. Camping in Maine for the weekend. Hey Dad, Mama Loves YOU: http://www.mamapalooza.com\n",
            "\n",
            "2. Its american tradition bitch\n",
            "\n",
            "3. @ThroughTheVoid They love it! The only pleasure they get in life. I actually do that. I'm sure I hear a tiny squeak... Then louder ones\n",
            "\n",
            "4. \" RT @latti: @AbsoHilare stop tweeting in church! Lol <--- \"\"I tweet because I'm happy, I tweet because I'm free\"\" LOL!\"\n",
            "\n",
            "5. Samsung Mini S2 portable HDD graced with colors that perfectly match your tacky beach gear: Sammy's done it aga.. http://tinyurl.com/lb5p6m\n",
            "\n",
            "6. @dialloc congrats on finding your way over. it may be slow going at first. hang in there. it's kinda cool when u get up to speed.\n",
            "\n",
            "7. iPhone activation delays continue, Apple offers $30 http://twt.gs/l3Ki\n",
            "\n",
            "8. RT @GoogleAtWork Gmail maximum attachment size now 25MB http://bit.ly/62mjw Nice!!!\n",
            "\n",
            "9. RT @acfou The Ads Won Awards for Crispin; But Did Nothing for Client BurgerKing's Sales/Marketshare - Big Surprise - http://ping.fm/vw8TI\n",
            "\n",
            "10. Hey doll! Great I missed True Blood yday boo lol Rt @FrankBanuat78 @jhillstephens Hello Sunshine how are u today? :-)\n",
            "\n",
            "11. Australian artist Pogo made these free songs primarily from sampled audio from Alice In Wonderland. http://www.last.fm/music/Pogo/Wonderland\n",
            "\n",
            "12. @mppritchard they wanted to sell all the preorders & then sell all of the ones they had in stock to those that just walked in. Can't do both\n",
            "\n",
            "13. Incoming: Frightened Rabbit, Sept. 22 (Tucson): If Fat Cat Records is going to send three great bands from Scot.. http://tinyurl.com/nz6xcv\n",
            "\n",
            "14. Hey @ginoandfran please greet philip! (GinoandFran live > http://ustre.am/2YyQ)\n",
            "\n",
            "15. Ik weet niet wie er achter de T-Mobile iPhone Twitter zit maar ik vind het niet echt 'corporate' taalgebruik... Best vreemd eigenlijk\n",
            "\n"
          ]
        }
      ],
      "source": [
        "# Display first 15 tweets from file2\n",
        "with open('assignment1_data/file2', 'r') as f:\n",
        "    tweets = f.readlines()\n",
        "    for i, tweet in enumerate(tweets[:15], start=1):\n",
        "        print(f'{i}. {tweet}')"
      ]
    },
    {
      "cell_type": "markdown",
      "metadata": {
        "id": "7KKKwTidnzUw"
      },
      "source": [
        "### Output (1 Task):\n",
        "\n",
        "    1. Input tweet\n",
        "    Camping in Maine for the weekend. Hey Dad, Mama Loves YOU: http://www.mamapalooza.com\n",
        "    1. Tokenized tweet\n",
        "    Camping , in , Maine , for , the , weekend , . , Hey , Dad , , , Mama , Loves , YOU , : , http://www.mamapalooza.com\n",
        "\n",
        "    2. Input tweet\n",
        "    Its american tradition bitch\n",
        "    2. Tokenized tweet\n",
        "    Its , american , tradition , bitch\n",
        "\n",
        "    3. Input tweet\n",
        "    @ThroughTheVoid They love it! The only pleasure they get in life. I actually do that. I'm sure I hear a tiny squeak... Then louder ones\n",
        "    3. Tokenized tweet\n",
        "    @ThroughTheVoid , They , love , it , ! , The , only , pleasure , they , get , in , life , . , I , actually , do , that , . , I, ' , m , sure , I , hear , a , tiny , squeak , ... , Then , louder , ones\n",
        "\n",
        "    4. Input tweet\n",
        "    \" RT @latti: @AbsoHilare stop tweeting in church! Lol <--- \"\"I tweet because I'm happy, I tweet because I'm free\"\" LOL!\"\n",
        "    4. Tokenized tweet\n",
        "    \" , RT , @latti , : , @AbsoHilare , stop , tweeting , in , church , ! , Lol , < , - , - , - , \" , \" , I , tweet , because , I , ' , m , happy , , , I , tweet , because , I , ' , m , free , \" , \" , LOL , ! , \"\n",
        "\n",
        "    5. Input tweet\n",
        "    Samsung Mini S2 portable HDD graced with colors that perfectly match your tacky beach gear: Sammy's done it aga.. http://tinyurl.com/lb5p6m\n",
        "    5. Tokenized tweet\n",
        "    Samsung , Mini , S2 , portable , HDD , graced , with , colors , that , perfectly , match , your , tacky , beach , gear , : , Sammy , ' , s , done , it , aga , . , . , http://tinyurl.com/lb5p6m\n",
        "\n",
        "    6. Input tweet\n",
        "    @dialloc congrats on finding your way over. it may be slow going at first. hang in there. it's kinda cool when u get up to speed.\n",
        "    6. Tokenized tweet\n",
        "    @dialloc , congrats , on , finding , your , way , over , . , it , may , be , slow , going , at , first , . , hang , in , there, . , it , ' , s , kinda , cool , when , u , get , up , to , speed , .\n",
        "\n",
        "    7. Input tweet\n",
        "    iPhone activation delays continue, Apple offers $30 http://twt.gs/l3Ki\n",
        "    7. Tokenized tweet\n",
        "    iPhone , activation , delays , continue , , , Apple , offers , $ , 3 , 0 , http://twt.gs/l3Ki\n",
        "\n",
        "    8. Input tweet\n",
        "    RT @GoogleAtWork Gmail maximum attachment size now 25MB http://bit.ly/62mjw Nice!!!\n",
        "    8. Tokenized tweet\n",
        "    RT , @GoogleAtWork , Gmail , maximum , attachment , size , now , 2 , 5 , MB , http://bit.ly/62mjw , Nice , ! , ! , !\n",
        "\n",
        "    9. Input tweet\n",
        "    RT @acfou The Ads Won Awards for Crispin; But Did Nothing for Client BurgerKing's Sales/Marketshare - Big Surprise - http://ping.fm/vw8TI\n",
        "    9. Tokenized tweet\n",
        "    RT , @acfou , The , Ads , Won , Awards , for , Crispin , ; , But , Did , Nothing , for , Client , BurgerKing , ' , s , Sales , / , Marketshare , - , Big , Surprise , - , http://ping.fm/vw8TI\n",
        "\n",
        "    10. Input tweet\n",
        "    Hey doll! Great I missed True Blood yday boo lol Rt @FrankBanuat78 @jhillstephens Hello Sunshine how are u today? :-)\n",
        "    10. Tokenized tweet\n",
        "    Hey , doll , ! , Great , I , missed , True , Blood , yday , boo , lol , Rt , @FrankBanuat78 , @jhillstephens , Hello , Sunshine , how , are , u , today , ? , :-)\n",
        "\n",
        "    11. Input tweet\n",
        "    Australian artist Pogo made these free songs primarily from sampled audio from Alice In Wonderland. http://www.last.fm/music/Pogo/Wonderland\n",
        "    11. Tokenized tweet\n",
        "    Australian , artist , Pogo , made , these , free , songs , primarily , from , sampled , audio , from , Alice , In , Wonderland , . , http://www.last.fm/music/Pogo/Wonderland\n",
        "\n",
        "    12. Input tweet\n",
        "    @mppritchard they wanted to sell all the preorders & then sell all of the ones they had in stock to those that just walked in. Can't do both\n",
        "    12. Tokenized tweet\n",
        "    @mppritchard , they , wanted , to , sell , all , the , preorders , & , then , sell , all , of , the , ones , they , had , in , stock , to , those , that , just , walked , in , . , Can , ' , t , do , both\n",
        "\n",
        "    13. Input tweet\n",
        "    Incoming: Frightened Rabbit, Sept. 22 (Tucson): If Fat Cat Records is going to send three great bands from Scot.. http://tinyurl.com/nz6xcv\n",
        "    13. Tokenized tweet\n",
        "    Incoming , : , Frightened , Rabbit , , , Sept , . , 2 , 2 , ( , Tucson, ) , : , If , Fat , Cat , Records , is , going , to , send , three , great , bands , from , Scot , . , . , http://tinyurl.com/nz6xcv\n",
        "\n",
        "    14. Input tweet\n",
        "    Hey @ginoandfran please greet philip! (GinoandFran live > http://ustre.am/2YyQ)\n",
        "    14. Tokenized tweet\n",
        "    Hey , @ginoandfran , please , greet , philip , ! , ( , GinoandFran, live , > , http://ustre.am/2YyQ , )\n",
        "\n",
        "    15. Input tweet\n",
        "    Ik weet niet wie er achter de T-Mobile iPhone Twitter zit maar ik vind het niet echt 'corporate' taalgebruik... Best vreemd eigenlijk\n",
        "    15. Tokenized tweet\n",
        "    Ik , weet , niet , wie , er , achter , de , T-Mobile , iPhone , Twitter , zit , maar , ik , vind , het , niet , echt , ' , corporate , ' , taalgebruik, ... , Best , vreemd , eigenlijk"
      ]
    },
    {
      "cell_type": "markdown",
      "metadata": {
        "id": "-2J2AD2nmUhi"
      },
      "source": [
        "## Task 2. Implement [Byte-Pair Encoding(BPE)](https://arxiv.org/pdf/1508.07909.pdf) Tokenizer (80 points)\n",
        "\n",
        "### Task 2.1. Implementation (60 points)\n",
        "\n",
        "Implement the tokenizer as the BPETokenizer class:\n",
        "* Implement `train` method that learns merges and builds the vocabulary of the specified `vocab_size` (25 points).\n",
        "* Implement `tokenize` method that should tokenize the text according to the learnt merges (25 points).\n",
        "\n",
        "Your code should have docstrings and comments (10 points)."
      ]
    },
    {
      "cell_type": "code",
      "execution_count": 5,
      "metadata": {},
      "outputs": [],
      "source": [
        "class BPETokenizer:\n",
        "    def __init__(self, vocab_size: int) -> None:\n",
        "        \"\"\"\n",
        "        Initialize the BPETokenizer object.\n",
        "\n",
        "        Args:\n",
        "            vocab_size (int): The given size of the vocabulary.\n",
        "        \"\"\"\n",
        "        self.vocab_size = vocab_size\n",
        "        self.vocab = defaultdict(int)\n",
        "\n",
        "    def build_vocabs(self, corpus: List[str]) -> None:\n",
        "        \"\"\"\n",
        "        Build the vocabularies based on the given corpus.\n",
        "\n",
        "        Args:\n",
        "            corpus (List[str]): The list of texts in the corpus.\n",
        "        \"\"\"\n",
        "        \n",
        "        #  Build the initial symbol vocabulary with the character vocabulary\n",
        "        self.symbol_vocab = set(list(''.join(corpus)) + ['</w>'])\n",
        "        self.symbol_vocab.remove(' ') \n",
        "        \n",
        "        # Build vocabulary representing each word as a sequence of characters, \n",
        "        # plus a special end-of-word symbol at the end\n",
        "        for sentence in corpus:\n",
        "            for word in sentence.split():\n",
        "                self.vocab[' '.join(list(re.sub('\\s+', ' ', word))) + ' </w>'] += 1\n",
        "                \n",
        "    def get_stats(self) -> Dict[Tuple[str, str], int]:\n",
        "        \"\"\"\n",
        "        Compute the frequencies of each pair of adjacent symbols in the vocabulary.\n",
        "\n",
        "        Returns:\n",
        "            Dict[Tuple[str, str], int]: A dictionary containing the frequencies \n",
        "                                        of adjacent symbol pairs.\n",
        "        \"\"\"\n",
        "        pairs = defaultdict(int)\n",
        "        for word, freq in self.vocab.items():\n",
        "            symbols = word.split()\n",
        "             # Count occurrences (frequences) of symbol pairs\n",
        "            for i in range(len(symbols) - 1):\n",
        "                pairs[symbols[i], symbols[i + 1]] += freq\n",
        "        return pairs\n",
        "\n",
        "    def merge_vocab(self, most_freq_pair: Tuple[str, str]) -> Dict[str, int]:\n",
        "        \"\"\"\n",
        "        Merge all occurrences of the most frequent pair in the vocabulary.\n",
        "\n",
        "        Args:\n",
        "            most_freq_pair (Tuple[str, str]): The most frequent pair of symbols.\n",
        "\n",
        "        Returns:\n",
        "            Dict[str, int]: The updated vocabulary after merging the pair \n",
        "                            occurrences.\n",
        "        \"\"\"\n",
        "        vocab_out = {}\n",
        "        bigram = re.escape(' '.join(most_freq_pair))\n",
        "        p = re.compile(r'(?<!\\S)' + bigram + r'(?!\\S)')\n",
        "        # Replace most frequent pair in vocabulary\n",
        "        for word in self.vocab:\n",
        "            word_out = p.sub(''.join(most_freq_pair), word)\n",
        "            vocab_out[word_out] = self.vocab[word]\n",
        "        return vocab_out\n",
        "\n",
        "    def train(self, corpus: List[str]) -> None:\n",
        "        \"\"\"\n",
        "        Train the tokenizer on the given corpus updating the initial builded \n",
        "        and symbol vocabularies.\n",
        "\n",
        "        Args:\n",
        "            corpus (List[str]): The list of texts in the corpus.\n",
        "        \"\"\"\n",
        "        # 1. Initialize vocabs\n",
        "        self.build_vocabs(corpus)\n",
        "        # 2. Define the number of merge operations as provided in paper:\n",
        "        # final (specified) vocabulary size minus the size of the initial vocabulary\n",
        "        num_merges = self.vocab_size - len(self.symbol_vocab)\n",
        "        # 3. Repeat num of merges times:\n",
        "        for _ in range(num_merges):\n",
        "            # Get frequency of adjacent symbol pairs (bigrams) in vocabulary\n",
        "            pairs = self.get_stats()\n",
        "            # Choose the most frequent (best) pair \n",
        "            best = max(pairs, key=pairs.get)\n",
        "            # Add new symbol pair to the symbol vocabulary\n",
        "            self.symbol_vocab.add(best[0] + best[1])\n",
        "            # Merge all occurrences of the most frequent pair in the vocabulary\n",
        "            self.vocab = self.merge_vocab(best)\n",
        "\n",
        "    def tokenize(self, text: str) -> List[str]: \n",
        "        \"\"\"\n",
        "        Tokenize the given text according to the learned merges.\n",
        "\n",
        "        Args:\n",
        "            text (str): The input text to be tokenized.\n",
        "\n",
        "        Returns:\n",
        "            List[str]: The list of tokens from text.\n",
        "        \"\"\"\n",
        "        # Split the text on words\n",
        "        words = text.split()\n",
        "        tokenized_res = []\n",
        "        for word in words:\n",
        "            # Add end-of-word symbol to each word\n",
        "            word = list(word + '</w>')\n",
        "            start, end = 0, len(word)\n",
        "            while start < len(word):\n",
        "                # Extract subword and match with the symbol vocab elements\n",
        "                subword = ''.join(word[start:end])\n",
        "                if subword in self.symbol_vocab:\n",
        "                    tokenized_res.append(subword)\n",
        "                    start = end\n",
        "                    end = len(word)\n",
        "                # If subword is a single symbol add to result and reset indices\n",
        "                elif len(subword) == 1:\n",
        "                    tokenized_res.append(subword)\n",
        "                    start += 1\n",
        "                    end = len(word)\n",
        "                else:\n",
        "                    # Shorten the subword\n",
        "                    end -= 1\n",
        "                    \n",
        "        return tokenized_res"
      ]
    },
    {
      "cell_type": "code",
      "execution_count": 6,
      "metadata": {},
      "outputs": [
        {
          "name": "stdout",
          "output_type": "stream",
          "text": [
            "Tokenization result:\n",
            "['low</w>', 'low</w>', 'low</w>', 'low</w>', 'low</w>', 'low', 'e', 's', 't', '</w>', 'low', 'e', 's', 't', '</w>', 'newer</w>', 'newer</w>', 'newer</w>', 'newer</w>', 'newer</w>', 'newer</w>', 'wi', 'd', 'er</w>', 'wi', 'd', 'er</w>', 'wi', 'd', 'er</w>', 'new', '</w>', 'new', '</w>']\n",
            "\n",
            "Resulted Vocabulary:\n",
            "{'low</w>': 5, 'low e s t </w>': 2, 'newer</w>': 6, 'wi d er</w>': 3, 'new </w>': 2}\n",
            "\n",
            "Symbol vocabulary:\n",
            "{'d', 'e', 'lo', '</w>', 'ne', 'low</w>', 'low', 'wi', 'er</w>', 'l', 't', 'w', 's', 'n', 'i', 'r', 'er', 'newer</w>', 'new', 'o'}\n"
          ]
        }
      ],
      "source": [
        "# Let's check the algorithm on an example from lecture 1 slides and \n",
        "# set input vocab size to 20\n",
        "corpus_example = 'low low low low low lowest lowest newer newer newer \\\n",
        "                newer newer newer wider wider wider new new'\n",
        "vocab_size = len(set(' '.join(corpus_example)))\n",
        "tokenizer = BPETokenizer(vocab_size=20)\n",
        "tokenizer.train([corpus_example])\n",
        "\n",
        "print('Tokenization result:')\n",
        "print(tokenizer.tokenize(corpus_example))\n",
        "print()\n",
        "print('Resulted Vocabulary:')\n",
        "print(tokenizer.vocab)\n",
        "print()\n",
        "print('Symbol vocabulary:')\n",
        "print(tokenizer.symbol_vocab)"
      ]
    },
    {
      "cell_type": "markdown",
      "metadata": {},
      "source": [
        "### Task 2.2. Analysis on Tweets Dataset (10 points)\n",
        "\n",
        "Train the BPE tokenizer on the tweets dataset. Try to tokenize the tweets with the tokenizer of different `vocab_size`. For example, train the BPE tokenizer with `vocab_size` of [base_vocab_size, 250, 500, 750, 1000]. Plot the dependency of the average length of the tokenized tweet by `vocab_size` to analyze how `vocab_size` affects the length of the tokenized tweet on average. Tell what `vocab_size` is preferrable and why."
      ]
    },
    {
      "cell_type": "code",
      "execution_count": 7,
      "metadata": {},
      "outputs": [],
      "source": [
        "# Read the tweets dataset from loaded data\n",
        "tweets = []\n",
        "for filename in os.listdir(data_path):\n",
        "    if filename != \"__MACOSX\":  # Skip the __MACOSX folder\n",
        "        file_path = os.path.join(data_path, filename)\n",
        "    \n",
        "        with open(file_path, \"r\") as file:\n",
        "            tweets.extend(file.readlines())\n",
        "\n",
        "# Define different vocab sizes\n",
        "vocab_sizes = [250, 500, 750, 1000]"
      ]
    },
    {
      "cell_type": "code",
      "execution_count": 8,
      "metadata": {},
      "outputs": [],
      "source": [
        "def analyze_tokenization(data, vocab_sizes, opt='tweets'):\n",
        "    # Define the base vocab size as count of distinct symbols \n",
        "    # (including end-of-word character, here as ' ')\n",
        "    base_vocab_size = len(set(' '.join(data)))\n",
        "    vocab_sizes.insert(0, base_vocab_size)\n",
        "    \n",
        "    print('Length of the dataset:', len(data))\n",
        "    print('Base vocab size:', base_vocab_size)\n",
        "\n",
        "    # Train bpe tokenizer with each vocab size, tokenize text and \n",
        "    # compute the avg length of tokenized text\n",
        "    avg_lengths = []\n",
        "    for vocab_size in vocab_sizes:\n",
        "        bpe_tokenizer = BPETokenizer(vocab_size=vocab_size)\n",
        "        # Training\n",
        "        bpe_tokenizer.train(data)\n",
        "        # Tokenization\n",
        "        tokenized_res = [bpe_tokenizer.tokenize(d) for d in data]\n",
        "        # Calculate average text length\n",
        "        avg_length = sum(len(tokens) for tokens in tokenized_res) / len(tokenized_res)\n",
        "        avg_lengths.append(avg_length)\n",
        "\n",
        "    # Plot the results\n",
        "    sns.set_style('darkgrid')\n",
        "    plt.plot(vocab_sizes, avg_lengths)\n",
        "    plt.xlabel('Vocabulary size')\n",
        "    plt.ylabel('Average length')\n",
        "    plt.title(f'Dependency of avg length of tokenized {opt} by vocab size')\n",
        "    plt.show()\n"
      ]
    },
    {
      "cell_type": "code",
      "execution_count": 9,
      "metadata": {},
      "outputs": [
        {
          "name": "stdout",
          "output_type": "stream",
          "text": [
            "Length of the dataset: 220\n",
            "Base vocab size: 168\n"
          ]
        },
        {
          "data": {
            "image/png": "[encoded data removed]",
            "text/plain": [
              "<Figure size 640x480 with 1 Axes>"
            ]
          },
          "metadata": {},
          "output_type": "display_data"
        }
      ],
      "source": [
        "analyze_tokenization(tweets, vocab_sizes)"
      ]
    },
    {
      "cell_type": "markdown",
      "metadata": {},
      "source": [
        "**Conclusion on Task 2.2:**\n",
        "\n",
        "Based on the plot above, the following conclusions can be drawn:\n",
        "\n",
        "- As the `vocab_size` increases from $150$ to $750$, there is a significant decrease in the average length of the tokenized tweets.\n",
        "- Beyond vocabulary size of $750$, the decrease in the average length becomes less pronounced and starts to decrease slightly.\n",
        "\n",
        "Based on these observations, a `vocab_size` of $750$ seems to be preferable as it strikes a balance between reducing average tokenized tweet length and avoiding excessive vocabulary size (that could cause loss in performance)."
      ]
    },
    {
      "cell_type": "markdown",
      "metadata": {},
      "source": [
        "### Task 2.3. Analysis on Dataset of Different Language (10 points)\n",
        "\n",
        "Find a small dataset of texts in a language other than English. The dataset size should be not greater than several megabytes.\n",
        "\n",
        "Train the BPE tokenizer on the dataset that you found. Try to tokenize the sentences from this dataset with the tokenizer of different `vocab_size`. Plot the dependency of the average length of the tokenized sentence by `vocab_size` to analyze how `vocab_size` affects the length of the tokenized sentence on average.\n",
        "\n",
        "Tell how how the average length of the tokenized sentence differs from the average length of the tokenized tweet. Explain why. "
      ]
    },
    {
      "cell_type": "markdown",
      "metadata": {},
      "source": [
        "Data with italian speech sentences [link](https://huggingface.co/datasets/z-uo/male-LJSpeech-italian/tree/main) (I loaded validation data)"
      ]
    },
    {
      "cell_type": "code",
      "execution_count": 10,
      "metadata": {},
      "outputs": [
        {
          "data": {
            "text/plain": [
              "['essendo indisposto il primo magistrato di Corsenna.',\n",
              " 'Si direbbe che il mio cervello riceva delle continue scosse.']"
            ]
          },
          "execution_count": 10,
          "metadata": {},
          "output_type": "execute_result"
        }
      ],
      "source": [
        "# Data extraction and loading\n",
        "output = 'speech_italian.zip'\n",
        "data_path = 'speech_italian'\n",
        "\n",
        "with zipfile.ZipFile(output, 'r') as zip_ref:\n",
        "    zip_ref.extractall(data_path)\n",
        "    \n",
        "italian_df = pd.read_csv(data_path + '/val.csv', delimiter='|', \n",
        "                         header=0, names=[1, 2, 3])\n",
        "\n",
        "# Get first 200 text sentences\n",
        "italian_speech_data = italian_df[2].values[:200].tolist()\n",
        "italian_speech_data[:2]"
      ]
    },
    {
      "cell_type": "code",
      "execution_count": 11,
      "metadata": {},
      "outputs": [
        {
          "name": "stdout",
          "output_type": "stream",
          "text": [
            "Length of the dataset: 200\n",
            "Base vocab size: 86\n"
          ]
        },
        {
          "data": {
            "image/png": "[encoded data removed]",
            "text/plain": [
              "<Figure size 640x480 with 1 Axes>"
            ]
          },
          "metadata": {},
          "output_type": "display_data"
        }
      ],
      "source": [
        "analyze_tokenization(italian_speech_data, \n",
        "                     vocab_sizes=[250, 500, 750, 1000], \n",
        "                     opt='sentences')"
      ]
    },
    {
      "cell_type": "markdown",
      "metadata": {},
      "source": [
        "**Conclusion on Task 2.3:**\n",
        "\n",
        "When analyzing another language (for example, Italian) text sentences, we have observed a similar pattern as that of the English tweets: here the average sentence length first begins to fall and then after $500$-$750$ `vocab size` decreases slightly indicating the prefferable vocabulary size options. However, the average length of the tokenized sentences is lower (by approx. $10$) that in tweets. This difference can be explained by the presence of URLs and user references in tweets, which tend to be longer. Additionally, the Italian sentences dataset has a smaller base vocabulary size compared to the base vocabulary size of English tweets that can be due to smileys and hashtags actively used in the tweets but in ordinary speech they are not used."
      ]
    }
  ],
  "metadata": {
    "colab": {
      "provenance": [],
      "toc_visible": true
    },
    "kernelspec": {
      "display_name": "Python 3",
      "name": "python3"
    },
    "language_info": {
      "codemirror_mode": {
        "name": "ipython",
        "version": 3
      },
      "file_extension": ".py",
      "mimetype": "text/x-python",
      "name": "python",
      "nbconvert_exporter": "python",
      "pygments_lexer": "ipython3",
      "version": "3.9.6"
    }
  },
  "nbformat": 4,
  "nbformat_minor": 0
}
